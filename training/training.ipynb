{
 "cells": [
  {
   "cell_type": "code",
   "execution_count": null,
   "id": "fcb454a9",
   "metadata": {},
   "outputs": [],
   "source": [
    "import data.prem_data_collection\n",
    "import importlib\n",
    "import numpy as np\n",
    "import pandas as pd\n",
    "import matplotlib.pyplot as plt\n",
    "from sklearn.model_selection import train_test_split\n",
    "from sklearn.metrics import classification_report, confusion_matrix\n",
    "from sklearn.ensemble import RandomForestClassifier\n",
    "from sklearn.model_selection import cross_val_score\n",
    "from sklearn.model_selection import GroupKFold, cross_val_score"
   ]
  },
  {
   "cell_type": "code",
   "execution_count": null,
   "id": "a07c9c7f",
   "metadata": {},
   "outputs": [],
   "source": [
    "importlib.reload(data.prem_data_collection)\n",
    "df = data.prem_data_collection.df"
   ]
  },
  {
   "cell_type": "code",
   "execution_count": null,
   "id": "8da5d422",
   "metadata": {},
   "outputs": [],
   "source": [
    "train_df = df[df[\"matchday\"] <= 4]\n",
    "test_df = df[df[\"matchday\"] == 5].copy()\n",
    "\n",
    "X_train = train_df.drop(columns=[\"name\", \"relegated\"])\n",
    "y_train = train_df[\"relegated\"]\n",
    "\n",
    "X_test = test_df.drop(columns=[\"name\", \"relegated\"])\n",
    "y_test = test_df[\"relegated\"]\n",
    "\n",
    "model = RandomForestClassifier(n_estimators=100, random_state=42)\n",
    "model.fit(X_train, y_train)\n",
    "\n",
    "# from RandomForest module \n",
    "test_df[\"relegation_proba\"] = model.predict_proba(X_test)[:, 1]\n",
    "\n",
    "print(test_df[[\"name\", \"matchday\", \"relegation_proba\"]].sort_values(\"relegation_proba\", ascending=False))"
   ]
  },
  {
   "cell_type": "code",
   "execution_count": null,
   "id": "bc85a63b",
   "metadata": {},
   "outputs": [],
   "source": [
    "prob_list = []\n",
    "\n",
    "for md in sorted(df[\"matchday\"].unique()):\n",
    "\n",
    "    train_df = df[df[\"matchday\"] < md]\n",
    "    test_df = df[df[\"matchday\"] == md].copy()\n",
    "\n",
    "    # when md = 1 there exists not training data\n",
    "    if train_df.empty or test_df.empty:\n",
    "        continue\n",
    "\n",
    "    X_train = train_df.drop(columns=[\"name\", \"relegated\"])\n",
    "    y_train = train_df[\"relegated\"]\n",
    "\n",
    "    X_test = test_df.drop(columns=[\"name\", \"relegated\"])\n",
    "\n",
    "    model = RandomForestClassifier(n_estimators=100, random_state=42)\n",
    "    model.fit(X_train, y_train)\n",
    "\n",
    "    test_df[\"relegation_proba\"] = model.predict_proba(X_test)[:, 1]\n",
    "    test_df[\"matchday\"] = md\n",
    "\n",
    "    prob_list.append(test_df[[\"name\", \"matchday\", \"relegation_proba\"]])\n",
    "\n",
    "# combines all probabilities into one df so easier to visualise \n",
    "relegation_probs = pd.concat(prob_list)"
   ]
  },
  {
   "cell_type": "code",
   "execution_count": null,
   "id": "0aebb5ba",
   "metadata": {},
   "outputs": [],
   "source": [
    "plt.figure(figsize=(10, 6))\n",
    "\n",
    "for team in relegation_probs[\"name\"].unique():\n",
    "    team_data = relegation_probs[relegation_probs[\"name\"] == team]\n",
    "    plt.plot(team_data[\"matchday\"], team_data[\"relegation_proba\"], label=team)\n",
    "\n",
    "plt.xlabel(\"Matchday\")\n",
    "plt.ylabel(\"Relegation Probability\")\n",
    "season = data.prem_data_collection.prem_season\n",
    "plt.title(f\"Relegation Probability per Team Over the Season {(season)}\")\n",
    "plt.legend(loc='center left', bbox_to_anchor=(1, 0.5), ncol=1)\n",
    "plt.grid(True)\n",
    "plt.tight_layout()\n",
    "plt.show()"
   ]
  },
  {
   "cell_type": "code",
   "execution_count": null,
   "id": "bb63df90",
   "metadata": {},
   "outputs": [],
   "source": [
    "# from RandomForest\n",
    "importances = model.feature_importances_\n",
    "\n",
    "# match them to column names\n",
    "feature_names = X_train.columns\n",
    "feature_importance_df = pd.DataFrame({\n",
    "    \"Feature\": feature_names,\n",
    "    \"Importance\": importances\n",
    "}).sort_values(by=\"Importance\", ascending=False)\n",
    "\n",
    "print(feature_importance_df)"
   ]
  }
 ],
 "metadata": {
  "language_info": {
   "name": "python"
  }
 },
 "nbformat": 4,
 "nbformat_minor": 5
}
